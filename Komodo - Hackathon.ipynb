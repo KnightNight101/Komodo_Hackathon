{
 "cells": [
  {
   "cell_type": "markdown",
   "metadata": {},
   "source": [
    "# Komodo - Hackathon\n",
    "\n",
    "## Project Spec \n",
    "Initially, this project is a 2 week project, with the possibility of another week depending on outcomes of the hackathon. The project is based on ‘best-effort’ - we do not expect you to commit to a specific number of hours, but we do hope you use the opportunity to show what you can do.\n",
    "\n",
    "This is a remote-working project (apart from the 2 days at the hackathon itself). \n",
    "If you are unable to attend the hackathon, please let us know so we can prepare for the event appropriately. If you are able to attend, we will pay for travel fares.\n",
    "\n",
    "## Project\n",
    "We will be working towards an ‘energy flexibility calculator’ in the hackathon. The basic idea is to show how much carbon savings can be made using energy storage assets.\n",
    "\n",
    "The first week (24th-28th March), will be about examining the data and preparing some simple jupyter notebooks (or similar) for us to be able to access and manipulate on the day. We would like you to have a look through the data that has been shared below, and share ideas, insights or interesting things you find - in particular around energy storage, carbon emissions and renewable energy.\n",
    "\n",
    "The second week will consist of the hackathon Mon-Tues (if you can attend) and then round up and completing any work that has been started during those first two days. \n",
    "\n",
    "If there is a third week, it will be building on the work completed either on the backend calculations or in the data visualisations.\n",
    "## Things to Think about\n",
    "\n",
    "Some of the most common problems Tech Zero companies have told us about are:\n",
    "- How do we find the carbon footprint of our company’s data storage?\n",
    "- How do we know Carbon Offsets are legit, impactful, and well-managed?\n",
    "- Lots of emissions data are behind paywalls! \n",
    "- Leadership doesn’t understand how to implement sustainability plans\n",
    "- Employees don’t understand how they can help with sustainability plans\n",
    "\n",
    "- Can we use market data (e.g. pricing) to understand when is the best time to flex?\n",
    "- Can we work out the current carbon emission given the realtime generation mix?\n",
    "- Can we historical data to understand the impact flexibility would have had? \n",
    "- What is the carbon footprint of using energy at peak times vs a different time of the day?\n",
    "- What are the characteristics of energy storage assets (capacity, charging profiles, user expectations etc) that can be tweaked to provide flexibility? \n",
    "- etc.\n"
   ]
  },
  {
   "cell_type": "markdown",
   "metadata": {},
   "source": [
    "\n",
    "## Data\n",
    "\n",
    "## APIs\n",
    "Octopus Energy Open API - access to pricing, flexibility and device data to integrate and automate smart homes and businesses\n",
    "Carbon Intensity API + data - 2-day Carbon Intensity Forecast, for electricity generation, i.e. CO2e per kWh at a certain time\n",
    "Google APIs - including Air Quality, Rooftop Solar Energy Potential and Routes\n",
    "\n",
    "## Data sets\n",
    "National Grid ESO Data Portal - Open data from Great Britain’s Electricity System Operator, including energy demand forecasts, historical demand data, renewable energy forecasts, and future energy scenarios.\n",
    "Energy Dashboard - All kinds of real-time and historical energy data in one-place\n",
    "Government conversion factors - the numbers to help calculate the amount of CO2e from common business operations within the UK\n",
    "International electricity factors - the numbers to help calculate the amount of CO2e from common business operations internationally\n",
    "UK Environmental accounts data\n",
    "Site decarbonisation -  typical average, maximum and minimum costs to purchase and install different low carbon technologies on different sites\n",
    "EV charging profiles - data based upon real world vehicle journeys captured in the Department for Transport’s National Travel Survey (NTS).\n",
    "Plus loads more open data sets and APIs on uSmart!\n",
    "\n",
    "## Useful APIs\n",
    "\n",
    "Regional Carbon Intensity\n",
    "GET /regional/intensity/{from}/fw24h/postcode/{postcode}\n",
    "\n",
    "Energy System Forecasts\n",
    "https://usmart.io/org/esc/discovery/discovery-view-detail/0a7683c7-9bc7-406f-aa4b-34c69642ce25\n",
    "\n"
   ]
  },
  {
   "cell_type": "markdown",
   "metadata": {},
   "source": [
    "## Ideas and Notes\n",
    "Flexibility Calculator Mock up\n",
    "\n",
    "## Expected Outcomes\n",
    "\n",
    "- UI based interactive app \n",
    "    - Input range of asset types, sizes, location\n",
    "    - Output chart of savings based on inputs\n",
    "    - Carbon focus not money focus\n"
   ]
  },
  {
   "cell_type": "code",
   "execution_count": null,
   "metadata": {},
   "outputs": [],
   "source": []
  }
 ],
 "metadata": {
  "kernelspec": {
   "display_name": "Python 3",
   "language": "python",
   "name": "python3"
  },
  "language_info": {
   "name": "python",
   "version": "3.11.9"
  }
 },
 "nbformat": 4,
 "nbformat_minor": 2
}
