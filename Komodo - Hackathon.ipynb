{
 "cells": [
  {
   "cell_type": "markdown",
   "metadata": {},
   "source": [
    "\n",
    "# Data\n",
    "\n",
    "## APIs\n",
    "[Octopus Energy Open API](https://octopus.energy/blog/agile-smart-home-diy/) - access to pricing, flexibility and device data to integrate and automate smart homes and businesses\n",
    "[Carbon Intensity API + data](https://carbon-intensity.github.io/api-definitions/#carbon-intensity-api-v2-0-0) - 2-day Carbon Intensity Forecast, for electricity generation, i.e. CO2e per kWh at a certain time\n",
    "[Google APIs](https://developers.google.com/maps/documentation?hl=en) - including [Air Quality](https://developers.google.com/maps/documentation/air-quality?hl=en), [Rooftop Solar Energy Potential](https://developers.google.com/maps/documentation/solar?_gl=1*ifw50x*_up*MQ..*_ga*MTE5MjE1NTUwMy4xNzE4Mzc0MzMw*_ga_NRWSTWS78N*MTcxODM3NDMzMC4xLjAuMTcxODM3NDMzMC4wLjAuMA..) and [Routes](https://developers.google.com/maps/documentation/routes?_gl=1*1i8z69r*_up*MQ..*_ga*MTU1OTMwNDAxOC4xNzE4Mzc0NDQ3*_ga_NRWSTWS78N*MTcxODM3NDQ0Ny4xLjAuMTcxODM3NDQ0Ny4wLjAuMA..&hl=en)\n",
    "\n",
    "## Data sets\n",
    "[National Grid ESO Data Portal](https://www.nationalgrideso.com/data-portal) - Open data from Great Britain’s Electricity System Operator, including energy demand forecasts, historical demand data, renewable energy forecasts, and future energy scenarios.\n",
    "[Energy Dashboard](https://www.energydashboard.co.uk/live) - All kinds of real-time and historical energy data in one-place\n",
    "[Government conversion factors](https://www.gov.uk/government/publications/greenhouse-gas-reporting-conversion-factors-2023) - the numbers to help calculate the amount of CO2e from common business operations within the UK\n",
    "[International electricity factors](https://www.carbonfootprint.com/international_electricity_factors.html) - the numbers to help calculate the amount of CO2e from common business operations internationally\n",
    "[UK Environmental accounts data](https://www.ons.gov.uk/economy/environmentalaccounts/datalist)\n",
    "[Site decarbonisation](https://usmart.io/org/esc/discovery/discovery-view-detail/aefe19d1-3853-4984-906e-72e70101e474) -  typical average, maximum and minimum costs to purchase and install different low carbon technologies on different sites\n",
    "[EV charging profiles](https://usmart.io/org/esc/discovery/discovery-view-detail/b1f89810-2caa-4f6d-8180-7e967dc13323) - data based upon real world vehicle journeys captured in the Department for Transport’s National Travel Survey (NTS).\n",
    "[Plus loads more open data sets and APIs on uSmart!](https://usmart.io/)\n",
    "\n",
    "## Useful APIs\n",
    "\n",
    "Regional Carbon Intensity\n",
    "GET /regional/intensity/{from}/fw24h/postcode/{postcode}\n",
    "\n",
    "[Energy System Forecasts](https://usmart.io/org/esc/discovery/discovery-view-detail/0a7683c7-9bc7-406f-aa4b-34c69642ce25)\n",
    "\n"
   ]
  },
  {
   "cell_type": "markdown",
   "metadata": {},
   "source": [
    "## Ideas and Notes\n",
    "Flexibility Calculator Mock up\n",
    "\n",
    "## Expected Outcomes\n",
    "\n",
    "- UI based interactive app \n",
    "    - Input range of asset types, sizes, location\n",
    "    - Output chart of savings based on inputs\n",
    "    - Carbon focus not money focus\n"
   ]
  },
  {
   "cell_type": "code",
   "execution_count": null,
   "metadata": {},
   "outputs": [],
   "source": []
  }
 ],
 "metadata": {
  "kernelspec": {
   "display_name": "Python 3",
   "language": "python",
   "name": "python3"
  },
  "language_info": {
   "name": "python",
   "version": "3.11.9"
  }
 },
 "nbformat": 4,
 "nbformat_minor": 2
}
